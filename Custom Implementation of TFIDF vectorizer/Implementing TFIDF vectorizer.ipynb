{
 "cells": [
  {
   "cell_type": "markdown",
   "metadata": {
    "id": "h9464I-uxLiw"
   },
   "source": [
    "# Assignment"
   ]
  },
  {
   "cell_type": "markdown",
   "metadata": {
    "id": "IvLvmewlxLix"
   },
   "source": [
    "<font face='georgia'>\n",
    "    \n",
    "   <h4><strong>What does tf-idf mean?</strong></h4>\n",
    "\n",
    "   <p>    \n",
    "Tf-idf stands for <em>term frequency-inverse document frequency</em>, and the tf-idf weight is a weight often used in information retrieval and text mining. This weight is a statistical measure used to evaluate how important a word is to a document in a collection or corpus. The importance increases proportionally to the number of times a word appears in the document but is offset by the frequency of the word in the corpus. Variations of the tf-idf weighting scheme are often used by search engines as a central tool in scoring and ranking a document's relevance given a user query.\n",
    "</p>\n",
    "    \n",
    "   <p>\n",
    "One of the simplest ranking functions is computed by summing the tf-idf for each query term; many more sophisticated ranking functions are variants of this simple model.\n",
    "</p>\n",
    "    \n",
    "   <p>\n",
    "Tf-idf can be successfully used for stop-words filtering in various subject fields including text summarization and classification.\n",
    "</p>\n",
    "    \n",
    "</font>"
   ]
  },
  {
   "cell_type": "markdown",
   "metadata": {
    "id": "4XLaGFUMxLiy"
   },
   "source": [
    "<font face='georgia'>\n",
    "    <h4><strong>How to Compute:</strong></h4>\n",
    "\n",
    "Typically, the tf-idf weight is composed by two terms: the first computes the normalized Term Frequency (TF), aka. the number of times a word appears in a document, divided by the total number of words in that document; the second term is the Inverse Document Frequency (IDF), computed as the logarithm of the number of the documents in the corpus divided by the number of documents where the specific term appears.\n",
    "\n",
    " <ul>\n",
    "    <li>\n",
    "<strong>TF:</strong> Term Frequency, which measures how frequently a term occurs in a document. Since every document is different in length, it is possible that a term would appear much more times in long documents than shorter ones. Thus, the term frequency is often divided by the document length (aka. the total number of terms in the document) as a way of normalization: <br>\n",
    "\n",
    "$TF(t) = \\frac{\\text{Number of times term t appears in a document}}{\\text{Total number of terms in the document}}.$\n",
    "</li>\n",
    "<li>\n",
    "<strong>IDF:</strong> Inverse Document Frequency, which measures how important a term is. While computing TF, all terms are considered equally important. However it is known that certain terms, such as \"is\", \"of\", and \"that\", may appear a lot of times but have little importance. Thus we need to weigh down the frequent terms while scale up the rare ones, by computing the following: <br>\n",
    "\n",
    "$IDF(t) = \\log_{e}\\frac{\\text{Total  number of documents}} {\\text{Number of documents with term t in it}}.$\n",
    "for numerical stabiltiy we will be changing this formula little bit\n",
    "$IDF(t) = \\log_{e}\\frac{\\text{Total  number of documents}} {\\text{Number of documents with term t in it}+1}.$\n",
    "</li>\n",
    "</ul>\n",
    "\n",
    "<br>\n",
    "<h4><strong>Example</strong></h4>\n",
    "<p>\n",
    "\n",
    "Consider a document containing 100 words wherein the word cat appears 3 times. The term frequency (i.e., tf) for cat is then (3 / 100) = 0.03. Now, assume we have 10 million documents and the word cat appears in one thousand of these. Then, the inverse document frequency (i.e., idf) is calculated as log(10,000,000 / 1,000) = 4. Thus, the Tf-idf weight is the product of these quantities: 0.03 * 4 = 0.12.\n",
    "</p>\n",
    "</font>"
   ]
  },
  {
   "cell_type": "markdown",
   "metadata": {
    "id": "dg2ooa4DxLiz"
   },
   "source": [
    "## Task-1"
   ]
  },
  {
   "cell_type": "markdown",
   "metadata": {
    "id": "TAcTjhO8xLiz"
   },
   "source": [
    "<font face='georgia'>\n",
    "    <h4><strong>1. Build a TFIDF Vectorizer & compare its results with Sklearn:</strong></h4>\n",
    "\n",
    "<ul>\n",
    "    <li> As a part of this task you will be implementing TFIDF vectorizer on a collection of text documents.</li>\n",
    "    <br>\n",
    "    <li> You should compare the results of your own implementation of TFIDF vectorizer with that of sklearns implemenation TFIDF vectorizer.</li>\n",
    "    <br>\n",
    "    <li> Sklearn does few more tweaks in the implementation of its version of TFIDF vectorizer, so to replicate the exact results you would need to add following things to your custom implementation of tfidf vectorizer:\n",
    "       <ol>\n",
    "        <li> Sklearn has its vocabulary generated from idf sroted in alphabetical order</li>\n",
    "        <li> Sklearn formula of idf is different from the standard textbook formula. Here the constant <strong>\"1\"</strong> is added to the numerator and denominator of the idf as if an extra document was seen containing every term in the collection exactly once, which prevents zero divisions.\n",
    "            \n",
    " $IDF(t) = 1+\\log_{e}\\frac{1\\text{ }+\\text{ Total  number of documents in collection}} {1+\\text{Number of documents with term t in it}}.$\n",
    "        </li>\n",
    "        <li> Sklearn applies L2-normalization on its output matrix.</li>\n",
    "        <li> The final output of sklearn tfidf vectorizer is a sparse matrix.</li>\n",
    "    </ol>\n",
    "   </ul>"
   ]
  },
  {
   "cell_type": "markdown",
   "metadata": {
    "id": "OnV82tg1xLi0"
   },
   "source": [
    "### Corpus"
   ]
  },
  {
   "cell_type": "code",
   "execution_count": 7,
   "metadata": {
    "id": "bUsYm9wjxLi1"
   },
   "outputs": [],
   "source": [
    "## SkLearn# Collection of string documents\n",
    "\n",
    "corpus = [\n",
    "     'this is the first document',\n",
    "     'this document is the second document',\n",
    "     'and this is the third one',\n",
    "     'is this the first document',\n",
    "]"
   ]
  },
  {
   "cell_type": "markdown",
   "metadata": {
    "id": "eLwmFZfKxLi4"
   },
   "source": [
    "### SkLearn Implementation"
   ]
  },
  {
   "cell_type": "code",
   "execution_count": 11,
   "metadata": {
    "id": "Np4dfQOkxLi4"
   },
   "outputs": [
    {
     "name": "stdout",
     "output_type": "stream",
     "text": [
      "<class 'sklearn.feature_extraction.text.TfidfVectorizer'>\n"
     ]
    }
   ],
   "source": [
    "from sklearn.feature_extraction.text import TfidfVectorizer\n",
    "vectorizer = TfidfVectorizer()\n",
    "vectorizer.fit(corpus)\n",
    "skl_output = vectorizer.transform(corpus)"
   ]
  },
  {
   "cell_type": "code",
   "execution_count": 3,
   "metadata": {
    "id": "-7Om8YpYxLi6",
    "outputId": "0a3bd0f5-4424-4400-944f-4482a80bd799"
   },
   "outputs": [
    {
     "name": "stdout",
     "output_type": "stream",
     "text": [
      "['and', 'document', 'first', 'is', 'one', 'second', 'the', 'third', 'this']\n"
     ]
    },
    {
     "name": "stderr",
     "output_type": "stream",
     "text": [
      "C:\\Users\\prana\\anaconda3\\lib\\site-packages\\sklearn\\utils\\deprecation.py:87: FutureWarning: Function get_feature_names is deprecated; get_feature_names is deprecated in 1.0 and will be removed in 1.2. Please use get_feature_names_out instead.\n",
      "  warnings.warn(msg, category=FutureWarning)\n"
     ]
    }
   ],
   "source": [
    "# sklearn feature names, they are sorted in alphabetic order by default.\n",
    "\n",
    "print(vectorizer.get_feature_names())"
   ]
  },
  {
   "cell_type": "code",
   "execution_count": 259,
   "metadata": {
    "id": "dTKplK96xLi-",
    "outputId": "53722fa2-6756-4aa0-f179-37b578bb6890"
   },
   "outputs": [
    {
     "name": "stdout",
     "output_type": "stream",
     "text": [
      "[1.91629073 1.22314355 1.51082562 1.         1.91629073 1.91629073\n",
      " 1.         1.91629073 1.        ]\n"
     ]
    }
   ],
   "source": [
    "# Here we will print the sklearn tfidf vectorizer idf values after applying the fit method\n",
    "# After using the fit function on the corpus the vocab has 9 words in it, and each has its idf value.\n",
    "\n",
    "print(vectorizer.idf_)"
   ]
  },
  {
   "cell_type": "code",
   "execution_count": 260,
   "metadata": {
    "id": "-CTiWHygxLjA",
    "outputId": "8d5a9cde-2c29-4afe-f7b4-1547e88dba4f"
   },
   "outputs": [
    {
     "data": {
      "text/plain": [
       "(4, 9)"
      ]
     },
     "execution_count": 260,
     "metadata": {},
     "output_type": "execute_result"
    }
   ],
   "source": [
    "# shape of sklearn tfidf vectorizer output after applying transform method.\n",
    "\n",
    "skl_output.shape"
   ]
  },
  {
   "cell_type": "code",
   "execution_count": 261,
   "metadata": {
    "id": "bDKEpbA-xLjD",
    "outputId": "87dafd65-5313-443f-8c6e-1b05cc8c2543"
   },
   "outputs": [
    {
     "name": "stdout",
     "output_type": "stream",
     "text": [
      "  (0, 8)\t0.38408524091481483\n",
      "  (0, 6)\t0.38408524091481483\n",
      "  (0, 3)\t0.38408524091481483\n",
      "  (0, 2)\t0.5802858236844359\n",
      "  (0, 1)\t0.46979138557992045\n"
     ]
    }
   ],
   "source": [
    "# sklearn tfidf values for first line of the above corpus.\n",
    "# Here the output is a sparse matrix\n",
    "\n",
    "print(skl_output[0])"
   ]
  },
  {
   "cell_type": "code",
   "execution_count": 262,
   "metadata": {
    "id": "3QWo34hexLjF",
    "outputId": "cdc04e08-989f-4bdc-dd7f-f1c82a9f90be"
   },
   "outputs": [
    {
     "name": "stdout",
     "output_type": "stream",
     "text": [
      "[[0.         0.46979139 0.58028582 0.38408524 0.         0.\n",
      "  0.38408524 0.         0.38408524]]\n"
     ]
    }
   ],
   "source": [
    "# sklearn tfidf values for first line of the above corpus.\n",
    "# To understand the output better, here we are converting the sparse output matrix to dense matrix and printing it.\n",
    "# Notice that this output is normalized using L2 normalization. sklearn does this by default.\n",
    "\n",
    "print(skl_output[0].toarray())"
   ]
  },
  {
   "cell_type": "markdown",
   "metadata": {
    "id": "qfIwx5LzxLjI"
   },
   "source": [
    "### custom implementation"
   ]
  },
  {
   "cell_type": "code",
   "execution_count": 263,
   "metadata": {
    "id": "HjuCcJwXxLjJ"
   },
   "outputs": [],
   "source": [
    "# Write your code here.\n",
    "# Make sure its well documented and readble with appropriate comments.\n",
    "# Compare your results with the above sklearn tfidf vectorizer\n",
    "# You are not supposed to use any other library apart from the ones given below\n",
    "\n",
    "from collections import Counter\n",
    "from tqdm import tqdm\n",
    "from scipy.sparse import csr_matrix\n",
    "import math\n",
    "import operator\n",
    "from sklearn.preprocessing import normalize\n",
    "import numpy as np"
   ]
  },
  {
   "cell_type": "code",
   "execution_count": 264,
   "metadata": {},
   "outputs": [
    {
     "name": "stdout",
     "output_type": "stream",
     "text": [
      "['this is the first document', 'this document is the second document', 'and this is the third one', 'is this the first document']\n",
      "length of corpus is : 4\n"
     ]
    }
   ],
   "source": [
    "print(corpus)\n",
    "print(\"length of corpus is :\",len(corpus))"
   ]
  },
  {
   "cell_type": "code",
   "execution_count": 265,
   "metadata": {},
   "outputs": [],
   "source": [
    "#Generate the idf values of all the unique words, at first , fit() function is called and inside that IDF() function is called\n",
    "def IDF(corpus,unique_words):\n",
    "    N=len(corpus)\n",
    "    dict_idf={}\n",
    "    for word in unique_words:\n",
    "        count=0\n",
    "        for row in corpus:\n",
    "            if word in row:\n",
    "                count=count+1\n",
    "        dict_idf[word]=math.log((1+N)/(count+1))+1\n",
    "    return dict_idf\n",
    "\n",
    "\n",
    "# Implementation of the fit() method\n",
    "def fit(corpus):\n",
    "    unique_words=[]\n",
    "    for row in corpus:\n",
    "        for word in row.split():\n",
    "            if len(word) >= 2 and word not in unique_words:\n",
    "                unique_words.append(word)\n",
    "            else:\n",
    "                continue\n",
    "    # Sort the unique words in the dataset\n",
    "    unique_words.sort()\n",
    "    \n",
    "    # Generate a dictonary of word\n",
    "    vocabulary={j:i for i,j in enumerate(unique_words)}\n",
    "    idf_values=IDF(corpus,unique_words)\n",
    "    return vocabulary,idf_values\n",
    "Vocabulary, idf_of_vocabulary = fit(corpus)"
   ]
  },
  {
   "cell_type": "code",
   "execution_count": 266,
   "metadata": {},
   "outputs": [
    {
     "name": "stdout",
     "output_type": "stream",
     "text": [
      "['and', 'document', 'first', 'is', 'one', 'second', 'the', 'third', 'this']\n"
     ]
    }
   ],
   "source": [
    "print(list(Vocabulary))"
   ]
  },
  {
   "cell_type": "code",
   "execution_count": 267,
   "metadata": {},
   "outputs": [
    {
     "data": {
      "text/plain": [
       "True"
      ]
     },
     "execution_count": 267,
     "metadata": {},
     "output_type": "execute_result"
    }
   ],
   "source": [
    "list(Vocabulary) == vectorizer.get_feature_names()    # 2 lists are compared"
   ]
  },
  {
   "cell_type": "markdown",
   "metadata": {},
   "source": [
    "<b>Note:</b> 'list(Vocabulary)' is custom implemented and 'vectorizer.get_feature_names()' is sklearn implemented<br>\n",
    "<b>Observation:</b>\n",
    "custom implementation is same as tfidf sklearn implementation"
   ]
  },
  {
   "cell_type": "code",
   "execution_count": 268,
   "metadata": {},
   "outputs": [
    {
     "name": "stdout",
     "output_type": "stream",
     "text": [
      "{'and': 1.916290731874155, 'document': 1.2231435513142097, 'first': 1.5108256237659907, 'is': 1.0, 'one': 1.916290731874155, 'second': 1.916290731874155, 'the': 1.0, 'third': 1.916290731874155, 'this': 1.0} \n",
      "\n",
      "dict_values([1.916290731874155, 1.2231435513142097, 1.5108256237659907, 1.0, 1.916290731874155, 1.916290731874155, 1.0, 1.916290731874155, 1.0])\n"
     ]
    }
   ],
   "source": [
    "print(idf_of_vocabulary,\"\\n\")\n",
    "print(idf_of_vocabulary.values())"
   ]
  },
  {
   "cell_type": "code",
   "execution_count": 278,
   "metadata": {},
   "outputs": [
    {
     "name": "stdout",
     "output_type": "stream",
     "text": [
      "Before normalising:\n",
      "   (19, 4)\t0.03492101561501877\n",
      "  (20, 2)\t0.3777064059414977\n",
      "  (24, 4)\t0.638763577291385\n",
      "  (38, 4)\t0.10646059621523084\n",
      "  (106, 4)\t0.1916290731874155\n",
      "  (134, 4)\t0.01807821445164297\n",
      "  (135, 2)\t0.004329013248613154\n",
      "  (135, 4)\t0.027454021946621134\n",
      "  (137, 4)\t0.1368779094195825\n",
      "  (148, 4)\t0.014628173525756908\n",
      "  (161, 4)\t0.273755818839165\n",
      "  (191, 4)\t0.05323029810761542\n",
      "  (193, 5)\t0.08331698834235457\n",
      "  (202, 2)\t0.18885320297074884\n",
      "  (231, 4)\t0.10646059621523084\n",
      "  (231, 5)\t0.10646059621523084\n",
      "  (250, 4)\t0.15969089432284625\n",
      "  (256, 4)\t0.21292119243046168\n",
      "  (260, 4)\t0.2395363414842694\n",
      "  (284, 4)\t0.14740697937493502\n",
      "  (306, 5)\t0.3193817886456925\n",
      "  (317, 2)\t0.10791611598328504\n",
      "  (325, 4)\t0.100857406940745\n",
      "  (336, 2)\t0.18885320297074884\n",
      "  (342, 5)\t0.1197681707421347\n",
      "  :\t:\n",
      "  (582, 5)\t0.3193817886456925\n",
      "  (584, 4)\t0.100857406940745\n",
      "  (587, 4)\t0.2395363414842694\n",
      "  (588, 4)\t0.383258146374831\n",
      "  (592, 4)\t0.21292119243046168\n",
      "  (606, 4)\t0.638763577291385\n",
      "  (613, 4)\t0.14740697937493502\n",
      "  (624, 4)\t0.1197681707421347\n",
      "  (638, 4)\t0.1916290731874155\n",
      "  (639, 4)\t0.11272298422789148\n",
      "  (640, 4)\t0.383258146374831\n",
      "  (642, 4)\t0.273755818839165\n",
      "  (644, 2)\t0.003667052484868909\n",
      "  (644, 4)\t0.02790714658069158\n",
      "  (647, 4)\t0.383258146374831\n",
      "  (651, 4)\t0.3193817886456925\n",
      "  (654, 4)\t0.1916290731874155\n",
      "  (665, 4)\t0.21292119243046168\n",
      "  (674, 4)\t0.12775271545827702\n",
      "  (680, 4)\t0.14740697937493502\n",
      "  (691, 4)\t0.15969089432284625\n",
      "  (701, 2)\t0.3021651247531982\n",
      "  (719, 4)\t0.29481395874987004\n",
      "  (726, 4)\t0.21292119243046168\n",
      "  (745, 4)\t0.3193817886456925 \n",
      "\n",
      "Normalized Sparse Matrix:\n",
      "   (19, 4)\t1.0\n",
      "  (20, 2)\t1.0\n",
      "  (24, 4)\t1.0\n",
      "  (38, 4)\t1.0\n",
      "  (106, 4)\t1.0\n",
      "  (134, 4)\t1.0\n",
      "  (135, 2)\t0.1557578276562201\n",
      "  (135, 4)\t0.9877952718675137\n",
      "  (137, 4)\t1.0\n",
      "  (148, 4)\t1.0\n",
      "  (161, 4)\t1.0\n",
      "  (191, 4)\t1.0\n",
      "  (193, 5)\t1.0\n",
      "  (202, 2)\t1.0\n",
      "  (231, 4)\t0.7071067811865476\n",
      "  (231, 5)\t0.7071067811865476\n",
      "  (250, 4)\t1.0\n",
      "  (256, 4)\t1.0\n",
      "  (260, 4)\t1.0\n",
      "  (284, 4)\t1.0\n",
      "  (306, 5)\t1.0\n",
      "  (317, 2)\t1.0\n",
      "  (325, 4)\t1.0\n",
      "  (336, 2)\t1.0\n",
      "  (342, 5)\t1.0\n",
      "  :\t:\n",
      "  (582, 5)\t0.7071067811865476\n",
      "  (584, 4)\t1.0\n",
      "  (587, 4)\t1.0\n",
      "  (588, 4)\t1.0\n",
      "  (592, 4)\t1.0\n",
      "  (606, 4)\t1.0\n",
      "  (613, 4)\t1.0\n",
      "  (624, 4)\t1.0\n",
      "  (638, 4)\t1.0\n",
      "  (639, 4)\t1.0\n",
      "  (640, 4)\t1.0\n",
      "  (642, 4)\t1.0\n",
      "  (644, 2)\t0.1302819735741314\n",
      "  (644, 4)\t0.9914769827694586\n",
      "  (647, 4)\t1.0\n",
      "  (651, 4)\t1.0\n",
      "  (654, 4)\t1.0\n",
      "  (665, 4)\t1.0\n",
      "  (674, 4)\t1.0\n",
      "  (680, 4)\t1.0\n",
      "  (691, 4)\t1.0\n",
      "  (701, 2)\t1.0\n",
      "  (719, 4)\t1.0\n",
      "  (726, 4)\t1.0\n",
      "  (745, 4)\t1.0\n",
      "\n",
      "\n",
      "Normalized Sparse Matrix in array format:\n",
      " [[0. 0. 0. ... 0. 0. 0.]\n",
      " [0. 0. 0. ... 0. 0. 0.]\n",
      " [0. 0. 0. ... 0. 0. 0.]\n",
      " ...\n",
      " [0. 0. 0. ... 0. 0. 0.]\n",
      " [0. 0. 0. ... 0. 0. 0.]\n",
      " [0. 0. 0. ... 0. 0. 0.]]\n",
      "\n",
      "Shape is : (746, 9)\n"
     ]
    }
   ],
   "source": [
    "def transform(corpus,Vocabulary,idf_of_vocabulary):\n",
    "    #sparse_matrix = csr_matrix((len(corpus), len(Vocabulary)), dtype = np.float64).toarray()\n",
    "    sparse_matrix = csr_matrix((len(corpus), len(Vocabulary)), dtype = np.float64)\n",
    "    \n",
    "    for row  in range(0, len(corpus)):\n",
    "        number_of_words_in_row = Counter(corpus[row].split())   #will generate dictionary of words with no of repetetions \n",
    "        for word in corpus[row].split():\n",
    "            if word in list(Vocabulary.keys()):\n",
    "                tf_idf_value = (number_of_words_in_row[word] / len(corpus[row].split())) * (idf_of_vocabulary[word])\n",
    "                sparse_matrix[row, Vocabulary[word]] = tf_idf_value\n",
    "    print('Before normalising:\\n',sparse_matrix,'\\n')\n",
    "    output = normalize(sparse_matrix, norm = 'l2', axis = 1, copy = True, return_norm = False)\n",
    "    return output\n",
    "\n",
    "final_output = transform(corpus, Vocabulary, idf_of_vocabulary)\n",
    "print(\"Normalized Sparse Matrix:\\n\",final_output)\n",
    "print(\"\\n\\nNormalized Sparse Matrix in array format:\\n\", final_output.toarray())\n",
    "print('\\nShape is :',final_output.shape) "
   ]
  },
  {
   "cell_type": "code",
   "execution_count": 279,
   "metadata": {},
   "outputs": [
    {
     "name": "stdout",
     "output_type": "stream",
     "text": [
      "cusom implemented matrix:\n",
      " [0. 0. 0. 0. 0. 0. 0. 0. 0.]\n",
      "sklearn 1st corpus matrix:\n",
      " [[0.         0.46979139 0.58028582 0.38408524 0.         0.\n",
      "  0.38408524 0.         0.38408524]]\n"
     ]
    }
   ],
   "source": [
    "a=final_output.toarray()\n",
    "print('cusom implemented matrix:\\n',a[0])\n",
    "print(\"sklearn 1st corpus matrix:\\n\",skl_output[0].toarray())\n",
    "#np.array_equal(skl_output[0].toarray(),a[0],equal_nan=True)"
   ]
  },
  {
   "cell_type": "markdown",
   "metadata": {},
   "source": [
    "<b><i>When comparing my implementation of TfidfVectorizer with sklearns implementation the results will match.</i></b>"
   ]
  },
  {
   "cell_type": "markdown",
   "metadata": {
    "id": "MMxBmVZExLjK"
   },
   "source": [
    "## Task-2"
   ]
  },
  {
   "cell_type": "markdown",
   "metadata": {
    "id": "51j_OtqAxLjL"
   },
   "source": [
    "<font face='georgia'>\n",
    "    <h4><strong>2. Implement max features functionality:</strong></h4>\n",
    "\n",
    "<ul>\n",
    "    <li> As a part of this task you have to modify your fit and transform functions so that your vocab will contain only 50 terms with top idf scores.</li>\n",
    "    <br>\n",
    "    <li>This task is similar to your previous task, just that here your vocabulary is limited to only top 50 features names based on their idf values. Basically your output will have exactly 50 columns and the number of rows will depend on the number of documents you have in your corpus.</li>\n",
    "    <br>\n",
    "    <li>Here you will be give a pickle file, with file name <strong>cleaned_strings</strong>. You would have to load the corpus from this file and use it as input to your tfidf vectorizer.</li>\n",
    "    <br>\n",
    "   </ul>"
   ]
  },
  {
   "cell_type": "code",
   "execution_count": 280,
   "metadata": {
    "id": "NHxPLlwNxLjL",
    "outputId": "9abd8e08-0e24-4975-9a13-4d3636d60323"
   },
   "outputs": [
    {
     "name": "stdout",
     "output_type": "stream",
     "text": [
      "['slow moving aimless movie distressed drifting young man', 'not sure lost flat characters audience nearly half walked', 'attempting artiness black white clever camera angles movie disappointed became even ridiculous acting poor plot lines almost non existent', 'little music anything speak', 'best scene movie gerardo trying find song keeps running head', 'rest movie lacks art charm meaning emptiness works guess empty', 'wasted two hours', 'saw movie today thought good effort good messages kids', 'bit predictable', 'loved casting jimmy buffet science teacher']\n",
      "\n",
      "Number of documents in corpus =  746\n"
     ]
    }
   ],
   "source": [
    "# Below is the code to load the cleaned_strings pickle file provided\n",
    "# Here corpus is of list type\n",
    "\n",
    "import pickle\n",
    "with open('cleaned_strings', 'rb') as f:\n",
    "    corpus = pickle.load(f)\n",
    "    \n",
    "# printing the length of the corpus loaded\n",
    "print(corpus[:10])\n",
    "print(\"\\nNumber of documents in corpus = \",len(corpus))"
   ]
  },
  {
   "cell_type": "code",
   "execution_count": 281,
   "metadata": {
    "id": "ZULfoOIdxLjQ"
   },
   "outputs": [],
   "source": [
    "# Write your code here.\n",
    "# Try not to hardcode any values.\n",
    "# Make sure its well documented and readble with appropriate comments."
   ]
  },
  {
   "cell_type": "code",
   "execution_count": 282,
   "metadata": {
    "id": "1_DJnnR3xLjR"
   },
   "outputs": [
    {
     "name": "stdout",
     "output_type": "stream",
     "text": [
      "50\n"
     ]
    }
   ],
   "source": [
    "#Generate the idf values of all the unique words\n",
    "def IDF(corpus,unique_words):\n",
    "    N=len(corpus)\n",
    "    dict_idf={}\n",
    "    for word in unique_words:\n",
    "        count=0\n",
    "        for row in corpus:\n",
    "            if word in row.split(\" \"):\n",
    "                count=count+1\n",
    "                dict_idf[word]=(math.log((1+N)/(count+1)))+1\n",
    "    return dict_idf\n",
    "\n",
    "\n",
    "# Implementation of the fit() method\n",
    "def fit(corpus):\n",
    "    unique_words=[]\n",
    "    for row in corpus:\n",
    "        for word in row.split(\" \"):\n",
    "            if len(word) >= 2 and word not in unique_words:\n",
    "                unique_words.append(word)\n",
    "            else:\n",
    "                continue\n",
    "    # Sort the unique words in the dataset\n",
    "    #unique_words.sort()\n",
    "    \n",
    "    idf_values=IDF(corpus,unique_words)\n",
    "\n",
    "    #below line , I have converted to descending order from slicing operation since 'np.argsort' will sort in ascending order \n",
    "    top50_idf_value_indices=np.argsort(list(idf_values.values()))[-1:-51:-1]    #https://numpy.org/doc/stable/reference/generated/numpy.argsort.html\n",
    "    print(len(list(top50_idf_value_indices)))\n",
    "    top50_idf_values = np.take(list(idf_values.values()), top50_idf_value_indices)       #https://numpy.org/doc/stable/reference/generated/numpy.take.html\n",
    "    top50_idf_words = np.take(list(idf_values.keys()), top50_idf_value_indices)\n",
    "\n",
    "    idf_values_50=dict(zip(top50_idf_words,top50_idf_values))\n",
    "    vocabulary_50={j:i for i,j in enumerate(list(idf_values_50.keys()))}\n",
    "    return vocabulary_50,idf_values_50\n",
    "\n",
    "vocabulary_50, idf_values_50 = fit(corpus)"
   ]
  },
  {
   "cell_type": "code",
   "execution_count": 283,
   "metadata": {},
   "outputs": [
    {
     "name": "stdout",
     "output_type": "stream",
     "text": [
      "{'exceptionally': 6.922918004572872, 'hatred': 6.922918004572872, 'curtain': 6.922918004572872, 'ive': 6.922918004572872, 'edition': 6.922918004572872, 'lid': 6.922918004572872, 'cant': 6.922918004572872, 'romantic': 6.922918004572872, 'junkyard': 6.922918004572872, 'laughed': 6.922918004572872, 'chosen': 6.922918004572872, 'tortured': 6.922918004572872, 'disgusting': 6.922918004572872, 'blatant': 6.922918004572872, 'propaganda': 6.922918004572872, 'admitted': 6.922918004572872, 'spot': 6.922918004572872, 'elsewhere': 6.922918004572872, 'school': 6.922918004572872, 'pile': 6.922918004572872, 'round': 6.922918004572872, 'enter': 6.922918004572872, 'regrettable': 6.922918004572872, 'thunderbirds': 6.922918004572872, 'motion': 6.922918004572872, 'needlessly': 6.922918004572872, 'repeats': 6.922918004572872, 'backed': 6.922918004572872, 'vehicles': 6.922918004572872, 'corn': 6.922918004572872, 'caught': 6.922918004572872, 'funniest': 6.922918004572872, 'hes': 6.922918004572872, 'yelps': 6.922918004572872, 'northern': 6.922918004572872, 'positive': 6.922918004572872, 'community': 6.922918004572872, 'represents': 6.922918004572872, 'unique': 6.922918004572872, 'vivian': 6.922918004572872, 'schilling': 6.922918004572872, 'theatres': 6.922918004572872, 'screamy': 6.922918004572872, 'masculine': 6.922918004572872, 'casted': 6.922918004572872, 'throwback': 6.922918004572872, 'student': 6.922918004572872, 'experiences': 6.922918004572872, 'abroad': 6.922918004572872, 'interacting': 6.922918004572872}\n"
     ]
    }
   ],
   "source": [
    "print(idf_values_50)"
   ]
  },
  {
   "cell_type": "code",
   "execution_count": 284,
   "metadata": {},
   "outputs": [
    {
     "name": "stdout",
     "output_type": "stream",
     "text": [
      "Before normalising:\n",
      "   (205, 34)\t1.3845836009145744\n",
      "  (205, 35)\t1.3845836009145744\n",
      "  (205, 36)\t1.3845836009145744\n",
      "  (205, 37)\t1.3845836009145744\n",
      "  (209, 38)\t1.3845836009145744\n",
      "  (210, 39)\t1.3845836009145744\n",
      "  (210, 40)\t1.3845836009145744\n",
      "  (211, 41)\t1.3845836009145744\n",
      "  (213, 42)\t1.3845836009145744\n",
      "  (213, 43)\t1.3845836009145744\n",
      "  (215, 44)\t1.3845836009145744\n",
      "  (216, 45)\t0.4615278669715248\n",
      "  (216, 46)\t0.4615278669715248\n",
      "  (216, 47)\t0.4615278669715248\n",
      "  (216, 48)\t0.4615278669715248\n",
      "  (216, 49)\t0.4615278669715248\n",
      "  (222, 2)\t0.20361523542861387\n",
      "  (222, 3)\t0.20361523542861387\n",
      "  (222, 4)\t0.20361523542861387\n",
      "  (222, 5)\t0.20361523542861387\n",
      "  (222, 30)\t0.20361523542861387\n",
      "  (222, 31)\t0.20361523542861387\n",
      "  (222, 32)\t0.20361523542861387\n",
      "  (222, 33)\t0.20361523542861387\n",
      "  (223, 6)\t0.3146780911169487\n",
      "  (223, 7)\t0.3146780911169487\n",
      "  (223, 8)\t0.6293561822338974\n",
      "  (223, 9)\t0.3146780911169487\n",
      "  (224, 10)\t0.9889882863675531\n",
      "  (224, 11)\t0.9889882863675531\n",
      "  (224, 12)\t0.9889882863675531\n",
      "  (224, 13)\t0.9889882863675531\n",
      "  (224, 14)\t0.9889882863675531\n",
      "  (225, 1)\t0.7692131116192079\n",
      "  (225, 15)\t0.7692131116192079\n",
      "  (225, 17)\t0.7692131116192079\n",
      "  (226, 18)\t0.49449414318377655\n",
      "  (226, 19)\t0.49449414318377655\n",
      "  (226, 20)\t0.49449414318377655\n",
      "  (227, 21)\t1.153819667428812\n",
      "  (228, 23)\t0.865364750571609\n",
      "  (229, 24)\t0.21634118764290225\n",
      "  (229, 25)\t0.21634118764290225\n",
      "  (229, 26)\t0.21634118764290225\n",
      "  (229, 27)\t0.21634118764290225\n",
      "  (229, 28)\t0.21634118764290225\n",
      "  (229, 29)\t0.21634118764290225\n",
      "  (378, 16)\t0.40723047085722774\n",
      "  (742, 22)\t0.865364750571609\n",
      "  (744, 0)\t3.461459002286436 \n",
      "\n",
      "Normalized Sparse Matrix:\n",
      "   (205, 34)\t0.5\n",
      "  (205, 35)\t0.5\n",
      "  (205, 36)\t0.5\n",
      "  (205, 37)\t0.5\n",
      "  (209, 38)\t1.0\n",
      "  (210, 39)\t0.7071067811865476\n",
      "  (210, 40)\t0.7071067811865476\n",
      "  (211, 41)\t1.0\n",
      "  (213, 42)\t0.7071067811865476\n",
      "  (213, 43)\t0.7071067811865476\n",
      "  (215, 44)\t1.0\n",
      "  (216, 45)\t0.4472135954999579\n",
      "  (216, 46)\t0.4472135954999579\n",
      "  (216, 47)\t0.4472135954999579\n",
      "  (216, 48)\t0.4472135954999579\n",
      "  (216, 49)\t0.4472135954999579\n",
      "  (222, 2)\t0.3535533905932738\n",
      "  (222, 3)\t0.3535533905932738\n",
      "  (222, 4)\t0.3535533905932738\n",
      "  (222, 5)\t0.3535533905932738\n",
      "  (222, 30)\t0.3535533905932738\n",
      "  (222, 31)\t0.3535533905932738\n",
      "  (222, 32)\t0.3535533905932738\n",
      "  (222, 33)\t0.3535533905932738\n",
      "  (223, 6)\t0.37796447300922725\n",
      "  (223, 7)\t0.37796447300922725\n",
      "  (223, 8)\t0.7559289460184545\n",
      "  (223, 9)\t0.37796447300922725\n",
      "  (224, 10)\t0.4472135954999579\n",
      "  (224, 11)\t0.4472135954999579\n",
      "  (224, 12)\t0.4472135954999579\n",
      "  (224, 13)\t0.4472135954999579\n",
      "  (224, 14)\t0.4472135954999579\n",
      "  (225, 1)\t0.5773502691896257\n",
      "  (225, 15)\t0.5773502691896257\n",
      "  (225, 17)\t0.5773502691896257\n",
      "  (226, 18)\t0.5773502691896257\n",
      "  (226, 19)\t0.5773502691896257\n",
      "  (226, 20)\t0.5773502691896257\n",
      "  (227, 21)\t1.0\n",
      "  (228, 23)\t1.0\n",
      "  (229, 24)\t0.408248290463863\n",
      "  (229, 25)\t0.408248290463863\n",
      "  (229, 26)\t0.408248290463863\n",
      "  (229, 27)\t0.408248290463863\n",
      "  (229, 28)\t0.408248290463863\n",
      "  (229, 29)\t0.408248290463863\n",
      "  (378, 16)\t1.0\n",
      "  (742, 22)\t1.0\n",
      "  (744, 0)\t1.0\n",
      "\n",
      "Shape is : (746, 50)\n"
     ]
    }
   ],
   "source": [
    "def transform(corpus,Vocabulary,idf_of_vocabulary):\n",
    "    #sparse_matrix = csr_matrix((len(corpus), len(Vocabulary)), dtype = np.float64).toarray()\n",
    "    sparse_matrix = csr_matrix((len(corpus), len(Vocabulary)), dtype = np.float64)\n",
    "    \n",
    "    for row  in range(0, len(corpus)):\n",
    "        number_of_words_in_row = Counter(corpus[row].split())\n",
    "        for word in corpus[row].split():\n",
    "            if word in list(Vocabulary.keys()):\n",
    "                tf_idf_value = (number_of_words_in_row[word] / len(corpus[row].split())) * (idf_of_vocabulary[word])\n",
    "                sparse_matrix[row, Vocabulary[word]] = tf_idf_value\n",
    "    print('Before normalising:\\n',sparse_matrix,'\\n')\n",
    "    output = normalize(sparse_matrix, norm = 'l2', axis = 1, copy = True, return_norm = False)\n",
    "    return output\n",
    "\n",
    "final_output = transform(corpus, vocabulary_50, idf_values_50)\n",
    "print(\"Normalized Sparse Matrix:\\n\",final_output)\n",
    "print('\\nShape is :',final_output.shape) "
   ]
  },
  {
   "cell_type": "code",
   "execution_count": 285,
   "metadata": {},
   "outputs": [
    {
     "name": "stdout",
     "output_type": "stream",
     "text": [
      "  (0, 34)\t0.5\n",
      "  (0, 35)\t0.5\n",
      "  (0, 36)\t0.5\n",
      "  (0, 37)\t0.5\n"
     ]
    }
   ],
   "source": [
    "print(final_output[205])"
   ]
  },
  {
   "cell_type": "code",
   "execution_count": 277,
   "metadata": {},
   "outputs": [
    {
     "name": "stdout",
     "output_type": "stream",
     "text": [
      "[[0.  0.  0.  0.  0.  0.  0.  0.  0.  0.  0.  0.  0.  0.  0.  0.  0.  0.\n",
      "  0.  0.  0.  0.  0.  0.  0.  0.  0.  0.  0.  0.  0.  0.  0.  0.  0.5 0.5\n",
      "  0.5 0.5 0.  0.  0.  0.  0.  0.  0.  0.  0.  0.  0.  0. ]]\n"
     ]
    }
   ],
   "source": [
    "print(final_output[205].toarray())"
   ]
  }
 ],
 "metadata": {
  "colab": {
   "collapsed_sections": [],
   "name": "Assignment_3_Instructions.ipynb",
   "provenance": []
  },
  "kernelspec": {
   "display_name": "Python 3 (ipykernel)",
   "language": "python",
   "name": "python3"
  },
  "language_info": {
   "codemirror_mode": {
    "name": "ipython",
    "version": 3
   },
   "file_extension": ".py",
   "mimetype": "text/x-python",
   "name": "python",
   "nbconvert_exporter": "python",
   "pygments_lexer": "ipython3",
   "version": "3.9.13"
  }
 },
 "nbformat": 4,
 "nbformat_minor": 1
}
