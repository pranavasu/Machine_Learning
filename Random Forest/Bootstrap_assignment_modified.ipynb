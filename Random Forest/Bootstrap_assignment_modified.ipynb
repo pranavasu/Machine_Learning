{
 "cells": [
  {
   "cell_type": "markdown",
   "metadata": {
    "id": "3sNKZq4XrXQh"
   },
   "source": [
    "# <font color='red'><b>Bootstrap assignment</b> </font>"
   ]
  },
  {
   "cell_type": "markdown",
   "metadata": {
    "id": "cuxBq_bvrwh2"
   },
   "source": [
    "<font color='blue'> <b>Importing packages</b> </font>"
   ]
  },
  {
   "cell_type": "code",
   "execution_count": 37,
   "metadata": {
    "id": "m6ag91ijrQOs"
   },
   "outputs": [],
   "source": [
    "import numpy as np # importing numpy for numerical computation\n",
    "from sklearn.datasets import load_boston # here we are using sklearn's boston dataset\n",
    "from sklearn.metrics import mean_squared_error # importing mean_squared_error metric\n",
    "import warnings\n",
    "warnings.filterwarnings(\"ignore\")"
   ]
  },
  {
   "cell_type": "code",
   "execution_count": 38,
   "metadata": {
    "id": "CcHOsONTt1K_"
   },
   "outputs": [],
   "source": [
    "boston = load_boston()\n",
    "x=boston.data #independent variables\n",
    "y=boston.target #target variable"
   ]
  },
  {
   "cell_type": "code",
   "execution_count": 39,
   "metadata": {
    "colab": {
     "base_uri": "https://localhost:8080/",
     "height": 34
    },
    "id": "pc1htEFYuLRj",
    "outputId": "f5b60712-98b3-4cdc-b629-3546c1e3859c"
   },
   "outputs": [
    {
     "data": {
      "text/plain": [
       "(506, 13)"
      ]
     },
     "execution_count": 39,
     "metadata": {},
     "output_type": "execute_result"
    }
   ],
   "source": [
    "x.shape\n"
   ]
  },
  {
   "cell_type": "code",
   "execution_count": 164,
   "metadata": {
    "colab": {
     "base_uri": "https://localhost:8080/",
     "height": 269
    },
    "id": "kQle3T_wuOa3",
    "outputId": "521c7bdd-5316-48d5-c534-b61d170d2c28"
   },
   "outputs": [
    {
     "data": {
      "text/plain": [
       "array([[6.3200e-03, 1.8000e+01, 2.3100e+00, 0.0000e+00, 5.3800e-01,\n",
       "        6.5750e+00, 6.5200e+01, 4.0900e+00, 1.0000e+00, 2.9600e+02,\n",
       "        1.5300e+01, 3.9690e+02, 4.9800e+00],\n",
       "       [2.7310e-02, 0.0000e+00, 7.0700e+00, 0.0000e+00, 4.6900e-01,\n",
       "        6.4210e+00, 7.8900e+01, 4.9671e+00, 2.0000e+00, 2.4200e+02,\n",
       "        1.7800e+01, 3.9690e+02, 9.1400e+00],\n",
       "       [2.7290e-02, 0.0000e+00, 7.0700e+00, 0.0000e+00, 4.6900e-01,\n",
       "        7.1850e+00, 6.1100e+01, 4.9671e+00, 2.0000e+00, 2.4200e+02,\n",
       "        1.7800e+01, 3.9283e+02, 4.0300e+00],\n",
       "       [3.2370e-02, 0.0000e+00, 2.1800e+00, 0.0000e+00, 4.5800e-01,\n",
       "        6.9980e+00, 4.5800e+01, 6.0622e+00, 3.0000e+00, 2.2200e+02,\n",
       "        1.8700e+01, 3.9463e+02, 2.9400e+00],\n",
       "       [6.9050e-02, 0.0000e+00, 2.1800e+00, 0.0000e+00, 4.5800e-01,\n",
       "        7.1470e+00, 5.4200e+01, 6.0622e+00, 3.0000e+00, 2.2200e+02,\n",
       "        1.8700e+01, 3.9690e+02, 5.3300e+00]])"
      ]
     },
     "execution_count": 164,
     "metadata": {},
     "output_type": "execute_result"
    }
   ],
   "source": [
    "x[:5]"
   ]
  },
  {
   "cell_type": "code",
   "execution_count": 165,
   "metadata": {},
   "outputs": [
    {
     "data": {
      "text/plain": [
       "array([24. , 21.6, 34.7, 33.4, 36.2])"
      ]
     },
     "execution_count": 165,
     "metadata": {},
     "output_type": "execute_result"
    }
   ],
   "source": [
    "y[:5]"
   ]
  },
  {
   "cell_type": "markdown",
   "metadata": {
    "id": "V2fHTdS_zpgG"
   },
   "source": [
    "# <font color='blue'> <b>Task - 1</b></font>"
   ]
  },
  {
   "cell_type": "markdown",
   "metadata": {
    "id": "e0yGBuryOwHz"
   },
   "source": [
    "<font color='blue'><b>Step - 1</b></font>"
   ]
  },
  {
   "cell_type": "markdown",
   "metadata": {
    "id": "lJXX8vf3z073"
   },
   "source": [
    "*  <font color='blue'> <b>Creating samples</b></font>"
   ]
  },
  {
   "cell_type": "markdown",
   "metadata": {
    "id": "CSVaWG1F4uCZ"
   },
   "source": [
    "<font color='Orange'><b>Algorithm</b></font>\n",
    "\n",
    "![alt text](https://i.imgur.com/OfcFrUP.jpg/)"
   ]
  },
  {
   "cell_type": "markdown",
   "metadata": {
    "id": "f_oWoN97BhDY"
   },
   "source": [
    "*  <font color='blue'><b> code for generating samples</b></font>"
   ]
  },
  {
   "cell_type": "code",
   "execution_count": 166,
   "metadata": {
    "id": "Ph_6D2SDzz7F"
   },
   "outputs": [],
   "source": [
    "def generating_samples(input_data, target_data):\n",
    "\n",
    "    '''In this function, we will write code for generating 30 samples '''\n",
    "    # you can use random.choice to generate random indices without replacement\n",
    "    # Please have a look at this link https://docs.scipy.org/doc/numpy-1.16.0/reference/generated/numpy.random.choice.html for more details\n",
    "    # Please follow above pseudo code for generating samples \n",
    "    \n",
    "\n",
    "    # return sampled_input_data , sampled_target_data,selected_rows,selected_columns\n",
    "    #note please return as lists\n",
    "    \n",
    "    sample_rows= np.random.choice(x.shape[0],303,replace = False)\n",
    "    replacing_rows= np.random.choice(sample_rows,203,replace = False)\n",
    "    \n",
    "    col = np.random.randint(3, 13, size = 1)\n",
    "    selected_col = np.random.choice(range(13), size = col, replace = False)\n",
    "    \n",
    "    \n",
    "    sample_data = input_data[sample_rows[:, None], selected_col]\n",
    "    target_sample_data = target_data[sample_rows]\n",
    "    \n",
    "    replic_data= input_data[replacing_rows[:, None], selected_col]\n",
    "    target_replic_data = target_data[replacing_rows]\n",
    "    \n",
    "    #concatenation\n",
    "    \n",
    "    f_sample_data = np.vstack((sample_data,replic_data))\n",
    "    f_target_sample_data = np.vstack((target_sample_data.reshape(-1,1),target_replic_data.reshape(-1,1)))\n",
    "    \n",
    "    #returnimg list after conversio from ndarray\n",
    "    return f_sample_data.tolist(),f_target_sample_data.tolist(),sample_rows.tolist(),selected_col.tolist()"
   ]
  },
  {
   "cell_type": "code",
   "execution_count": 167,
   "metadata": {},
   "outputs": [],
   "source": [
    "#a,b,c,d=generating_samples(x,y)\n",
    "#print(len(a),len(b),len(c),len(d))"
   ]
  },
  {
   "cell_type": "markdown",
   "metadata": {
    "id": "MivEQFlm7iOg"
   },
   "source": [
    "<font color='cyan'> <b> Grader function - 1 </b> </fongt>"
   ]
  },
  {
   "cell_type": "code",
   "execution_count": 168,
   "metadata": {
    "id": "AVvuhNzm7uld"
   },
   "outputs": [
    {
     "data": {
      "text/plain": [
       "True"
      ]
     },
     "execution_count": 168,
     "metadata": {},
     "output_type": "execute_result"
    }
   ],
   "source": [
    "def grader_samples(a,b,c,d):\n",
    "    length = (len(a)==506  and len(b)==506)\n",
    "    sampled = (len(a)-len(set([str(i) for i in a]))==203)\n",
    "    rows_length = (len(c)==303)\n",
    "    column_length= (len(d)>=3)\n",
    "    assert(length and sampled and rows_length and column_length)\n",
    "    return True\n",
    "a,b,c,d = generating_samples(x, y)\n",
    "grader_samples(a,b,c,d)"
   ]
  },
  {
   "cell_type": "markdown",
   "metadata": {
    "id": "b4LSsmn4Jn2_"
   },
   "source": [
    "*  <font color='blue'> <b>Create 30 samples </b>"
   ]
  },
  {
   "cell_type": "markdown",
   "metadata": {
    "id": "3ec7MN6sL2BZ"
   },
   "source": [
    "![alt text](https://i.imgur.com/p8eZaWL.jpg)"
   ]
  },
  {
   "cell_type": "code",
   "execution_count": 169,
   "metadata": {
    "id": "XXlKWjCcBvTk"
   },
   "outputs": [],
   "source": [
    "# Use generating_samples function to create 30 samples \n",
    "# store these created samples in a list\n",
    "\n",
    "def get_sample_lists(x, y):\n",
    "    list_input_data = []\n",
    "    list_output_data = []\n",
    "    list_selected_row = []\n",
    "    list_selected_columns = []\n",
    "\n",
    "    for i in range(0, 30):\n",
    "        a, b, c, d = generating_samples(x, y)\n",
    "        list_input_data.append(a)\n",
    "        list_output_data.append(b)\n",
    "        list_selected_row.append(c)\n",
    "        list_selected_columns.append(d)\n",
    "    return list_input_data, list_output_data, list_selected_row, list_selected_columns"
   ]
  },
  {
   "cell_type": "code",
   "execution_count": 170,
   "metadata": {},
   "outputs": [],
   "source": [
    "list_input_data, list_output_data, list_selected_row, list_selected_columns = get_sample_lists(x, y)"
   ]
  },
  {
   "cell_type": "markdown",
   "metadata": {
    "id": "MXUz9VFiMQkh"
   },
   "source": [
    "<font color='cyan'> <b>Grader function - 2 </b></font>"
   ]
  },
  {
   "cell_type": "code",
   "execution_count": 171,
   "metadata": {
    "id": "hCvIq8NuMWOC"
   },
   "outputs": [
    {
     "data": {
      "text/plain": [
       "True"
      ]
     },
     "execution_count": 171,
     "metadata": {},
     "output_type": "execute_result"
    }
   ],
   "source": [
    "def grader_30(a):\n",
    "    assert(len(a)==30 and len(a[0])==506)\n",
    "    return True\n",
    "grader_30(list_input_data)"
   ]
  },
  {
   "cell_type": "markdown",
   "metadata": {
    "id": "7Pv-mkZkO6dh"
   },
   "source": [
    "<br>"
   ]
  },
  {
   "cell_type": "markdown",
   "metadata": {
    "id": "whaHCPB0O8qF"
   },
   "source": [
    "<font color='red'><b>Step - 2 </b></font>"
   ]
  },
  {
   "cell_type": "markdown",
   "metadata": {
    "id": "XBy4zXSWPtU8"
   },
   "source": [
    "<font color='orange'><b>Flowchart for building tree</b></font>"
   ]
  },
  {
   "cell_type": "markdown",
   "metadata": {
    "id": "5xvH06HPQBdP"
   },
   "source": [
    "![alt text](https://i.imgur.com/pcXfSmp.png)"
   ]
  },
  {
   "cell_type": "markdown",
   "metadata": {
    "id": "WRwPO_uHQjul"
   },
   "source": [
    "*  <font color='blue'><b> code for building regression trees</b></font>"
   ]
  },
  {
   "cell_type": "code",
   "execution_count": 172,
   "metadata": {
    "id": "YWQp6tRwMthq"
   },
   "outputs": [],
   "source": [
    "from sklearn.tree import DecisionTreeRegressor\n",
    "\n",
    "def model_train(list_input_data, list_output_data):\n",
    "    list_models_dt = []\n",
    "    for i in range(0, 30):\n",
    "        clf =  DecisionTreeRegressor(max_depth=None)\n",
    "        clf.fit(list_input_data[i], list_output_data[i])\n",
    "        list_models_dt.append(clf)\n",
    "    return list_models_dt"
   ]
  },
  {
   "cell_type": "markdown",
   "metadata": {
    "id": "21j8BKfAQ1U8"
   },
   "source": [
    "<font color='orange'><b>Flowchart for calculating MSE </b></font>"
   ]
  },
  {
   "cell_type": "markdown",
   "metadata": {
    "id": "8Q0mTBD2RBx_"
   },
   "source": [
    "![alt text](https://i.imgur.com/sPEE618.png)"
   ]
  },
  {
   "cell_type": "markdown",
   "metadata": {
    "id": "6e-UamlHRjPy"
   },
   "source": [
    "After getting predicted_y for each data point, we can use sklearns mean_squared_error to calculate the MSE between predicted_y and actual_y."
   ]
  },
  {
   "cell_type": "markdown",
   "metadata": {
    "id": "TnIMT7_oR312"
   },
   "source": [
    "*  <font color='blue'><b> code for calculating MSE</b></font>"
   ]
  },
  {
   "cell_type": "code",
   "execution_count": 173,
   "metadata": {},
   "outputs": [],
   "source": [
    "def mse_score(x,model,selected_columns):\n",
    "    y_pred_for_mse = []\n",
    "\n",
    "    for i in x:\n",
    "        y_pred = []\n",
    "\n",
    "        for j in range(len(model)):\n",
    "            y_pred.append(model[j].predict(i[selected_columns[j]].reshape(1,-1)))\n",
    "        y_pred_for_mse.append(np.median(np.asarray(y_pred)))\n",
    "    \n",
    "    mse = mean_squared_error(y,np.asarray(y_pred_for_mse))\n",
    "    return mse"
   ]
  },
  {
   "cell_type": "code",
   "execution_count": 174,
   "metadata": {},
   "outputs": [],
   "source": [
    "selected_models = model_train(list_input_data, list_output_data)"
   ]
  },
  {
   "cell_type": "code",
   "execution_count": 175,
   "metadata": {},
   "outputs": [
    {
     "name": "stdout",
     "output_type": "stream",
     "text": [
      "0.036758893280632456\n"
     ]
    }
   ],
   "source": [
    "mse = mse_score(x, selected_models, list_selected_columns)\n",
    "print(mse)"
   ]
  },
  {
   "cell_type": "markdown",
   "metadata": {
    "id": "RuclPDMnSz8F"
   },
   "source": [
    "<font color='blue'><b>Step - 3 </b></font>"
   ]
  },
  {
   "cell_type": "markdown",
   "metadata": {
    "id": "ESb9FSIDTM5V"
   },
   "source": [
    "<font color='orange'><b>Flowchart for calculating OOB score</b></font>"
   ]
  },
  {
   "cell_type": "markdown",
   "metadata": {
    "id": "HB-d6NMETbd9"
   },
   "source": [
    "![alt text](https://i.imgur.com/95S5Mtm.png)"
   ]
  },
  {
   "cell_type": "markdown",
   "metadata": {
    "id": "WW3GOcFzTqbt"
   },
   "source": [
    "Now calculate the $OOB Score =  \\frac{1}{506}\\sum_{i=1}^{506}(y^{i} - y^{i}_{pred})^{2}$."
   ]
  },
  {
   "cell_type": "markdown",
   "metadata": {
    "id": "zBqcS03pUYSZ"
   },
   "source": [
    "*  <font color='blue'><b> code for calculating OOB score </b></font>"
   ]
  },
  {
   "cell_type": "code",
   "execution_count": 176,
   "metadata": {
    "id": "Fog_6DNdS-h_"
   },
   "outputs": [],
   "source": [
    "def oob_score(x,model,selected_columns,selected_rows):\n",
    "    y_pred_for_oob=[]\n",
    "\n",
    "    for i in range(len(x)):\n",
    "        p=x[i]\n",
    "        y_pred =[]\n",
    "\n",
    "        for j in range(len(model)):\n",
    "            if i not in selected_rows[j]:\n",
    "                y_pred.append(model[j].predict(p[selected_columns[j]].reshape(1,-1)))\n",
    "        y_pred_for_oob.append(np.median(np.asarray(y_pred)))\n",
    "    oob = mean_squared_error(y,np.asarray(y_pred_for_oob))\n",
    "    return oob"
   ]
  },
  {
   "cell_type": "code",
   "execution_count": 178,
   "metadata": {},
   "outputs": [
    {
     "name": "stdout",
     "output_type": "stream",
     "text": [
      "14.007294250445527\n"
     ]
    }
   ],
   "source": [
    "oob = oob_score(x, selected_models, list_selected_columns, list_selected_row)\n",
    "print(oob)"
   ]
  },
  {
   "cell_type": "markdown",
   "metadata": {
    "id": "sbuiwX3OUjUI"
   },
   "source": [
    "# <font color='blue'><b>Task 2</b></font>"
   ]
  },
  {
   "cell_type": "code",
   "execution_count": 179,
   "metadata": {
    "id": "ceW5-D88Uswi"
   },
   "outputs": [],
   "source": [
    "list_input_data =[]\n",
    "list_output_data =[]\n",
    "list_selected_rows =[]\n",
    "list_selected_columns =[]\n",
    "\n",
    "mse_val = []\n",
    "oob_val = []\n",
    "\n",
    "for i in range(0,35):        # Building Random forest model 35 times \n",
    "    list_input_data, list_output_data, list_selected_row, list_selected_columns = get_sample_lists(x, y)\n",
    "    selected_models = model_train(list_input_data, list_output_data)\n",
    "    mse = mse_score(x, selected_models, list_selected_columns)\n",
    "    mse_val.append(mse)\n",
    "    oob = oob_score(x, selected_models, list_selected_columns, list_selected_row)\n",
    "    oob_val.append(oob)\n",
    "    \n"
   ]
  },
  {
   "cell_type": "code",
   "execution_count": 180,
   "metadata": {},
   "outputs": [
    {
     "data": {
      "text/plain": [
       "[0.1464720575318402,\n",
       " 0.19576049011857719,\n",
       " 0.060469367588932815,\n",
       " 0.040938357762406674,\n",
       " 0.04596837944664034,\n",
       " 0.03058794466403162,\n",
       " 0.13138618308690775,\n",
       " 0.10532114624505931,\n",
       " 0.12144268774703552,\n",
       " 0.10395503952569171,\n",
       " 0.1111107383917231,\n",
       " 0.09329051383399212,\n",
       " 0.0441205533596838,\n",
       " 0.0871195652173913,\n",
       " 0.0495306324110672,\n",
       " 0.06100914031620552,\n",
       " 0.06281126482213445,\n",
       " 0.05840910326086954,\n",
       " 0.0938885375494072,\n",
       " 0.0660006203794655,\n",
       " 0.02333498023715414,\n",
       " 0.03975582722663213,\n",
       " 0.0774910621318248,\n",
       " 0.14979743083003952,\n",
       " 0.0789624855124437,\n",
       " 0.11544584980237152,\n",
       " 0.014145256916996014,\n",
       " 0.0618666282389108,\n",
       " 0.09426510348045687,\n",
       " 0.08124011857707508,\n",
       " 0.17202459376372417,\n",
       " 0.07198122529644263,\n",
       " 0.1914229249011858,\n",
       " 0.06355864826167623,\n",
       " 0.033651185770751026]"
      ]
     },
     "execution_count": 180,
     "metadata": {},
     "output_type": "execute_result"
    }
   ],
   "source": [
    "mse_val"
   ]
  },
  {
   "cell_type": "code",
   "execution_count": 188,
   "metadata": {},
   "outputs": [
    {
     "data": {
      "text/plain": [
       "[16.829961488618096,\n",
       " 15.336719321432636,\n",
       " 12.592025691699604,\n",
       " 13.736543675889328,\n",
       " 11.48066480017567,\n",
       " 13.183300395256913,\n",
       " 16.640839994247038,\n",
       " 13.085318800141941,\n",
       " 14.226027667984187,\n",
       " 12.733636363636363,\n",
       " 13.721702600076828,\n",
       " 12.674035951910406,\n",
       " 13.104525691699603,\n",
       " 14.50334170509442,\n",
       " 15.409942853109623,\n",
       " 17.957264761747915,\n",
       " 14.59133732372306,\n",
       " 17.35173931615444,\n",
       " 10.618763806267348,\n",
       " 13.412639575098815,\n",
       " 14.941107031411423,\n",
       " 15.03581392373719,\n",
       " 13.192415606763047,\n",
       " 15.905203377883051,\n",
       " 13.850888349497229,\n",
       " 14.653956102542011,\n",
       " 14.512850790513832,\n",
       " 13.185984111338449,\n",
       " 15.463389902428638,\n",
       " 11.479362648221342,\n",
       " 14.238447388279962,\n",
       " 11.950198360335987,\n",
       " 13.23825098814229,\n",
       " 15.061042372469041,\n",
       " 14.98338932806324]"
      ]
     },
     "execution_count": 188,
     "metadata": {},
     "output_type": "execute_result"
    }
   ],
   "source": [
    "oob_val"
   ]
  },
  {
   "cell_type": "code",
   "execution_count": 213,
   "metadata": {},
   "outputs": [
    {
     "data": {
      "image/png": "[encoded data removed]",
      "text/plain": [
       "<Figure size 640x480 with 1 Axes>"
      ]
     },
     "metadata": {},
     "output_type": "display_data"
    }
   ],
   "source": [
    "import matplotlib.pyplot as plt\n",
    "import seaborn as sns\n",
    "#fig, axs = plt.subplot(1,2)\n",
    "sns.histplot(mse_val, color='g',kde=True)\n",
    "\n",
    "plt.show()"
   ]
  },
  {
   "cell_type": "code",
   "execution_count": 214,
   "metadata": {},
   "outputs": [
    {
     "data": {
      "image/png": "[encoded data removed]",
      "text/plain": [
       "<Figure size 640x480 with 1 Axes>"
      ]
     },
     "metadata": {},
     "output_type": "display_data"
    }
   ],
   "source": [
    "sns.histplot(oob_val, color='g',kde=True)\n",
    "plt.show()"
   ]
  },
  {
   "cell_type": "code",
   "execution_count": 224,
   "metadata": {},
   "outputs": [],
   "source": [
    "#import scipy.stats as st\n",
    "#\n",
    "#st.t.interval(alpha=0.95, df=len(mse_val)-1,\n",
    "#              loc=np.mean(mse_val),\n",
    "#              scale=st.sem(mse_val))"
   ]
  },
  {
   "cell_type": "code",
   "execution_count": 241,
   "metadata": {},
   "outputs": [
    {
     "name": "stdout",
     "output_type": "stream",
     "text": [
      "There is 95% confidence that OOB value lies in the interval of [11.350272821928243,17.44256813299346]\n"
     ]
    }
   ],
   "source": [
    "print(\"There is 95% confidence that OOB value lies in the interval of [{},{}]\".format(np.percentile(oob_val,2.5),np.percentile(oob_val,97.5)))"
   ]
  },
  {
   "cell_type": "code",
   "execution_count": 242,
   "metadata": {},
   "outputs": [
    {
     "name": "stdout",
     "output_type": "stream",
     "text": [
      "There is 95% confidence that mean squared error lies in the interval of [0.02195652173913042,0.1920735596837945]\n"
     ]
    }
   ],
   "source": [
    "print(\"There is 95% confidence that mean squared error lies in the interval of [{},{}]\".format(np.percentile(mse_val,2.5),np.percentile(mse_val,97.5)))"
   ]
  },
  {
   "cell_type": "code",
   "execution_count": 243,
   "metadata": {},
   "outputs": [
    {
     "name": "stdout",
     "output_type": "stream",
     "text": [
      "Observed MSE:0.033651185770751026 \n",
      "\n",
      " Observed OOB:14.98338932806324\n"
     ]
    }
   ],
   "source": [
    "print(\"Observed MSE:{} \\n\\n Observed OOB:{}\".format(mse,oob))"
   ]
  },
  {
   "cell_type": "code",
   "execution_count": 225,
   "metadata": {},
   "outputs": [],
   "source": [
    "#from scipy.stats import normaltest\n",
    "#\n",
    "#k2, p = normaltest(mse_val)\n",
    "#print(p)\n",
    "#"
   ]
  },
  {
   "cell_type": "markdown",
   "metadata": {
    "id": "jKTnJdiBVS_e"
   },
   "source": [
    "# <font color='blue'><b>Task 3</b></font>"
   ]
  },
  {
   "cell_type": "markdown",
   "metadata": {
    "id": "eXxrvZqHV1Fr"
   },
   "source": [
    "<font color='orange'><b>Flowchart for Task 3</b></font>"
   ]
  },
  {
   "cell_type": "markdown",
   "metadata": {
    "id": "NyjwEJ62V6a6"
   },
   "source": [
    "<b>Hint: </b> We created 30 models by using 30 samples in TASK-1. Here, we need send query point \"xq\"  to 30 models and perform the regression on the output generated by 30 models."
   ]
  },
  {
   "cell_type": "markdown",
   "metadata": {
    "id": "0emSwLL7VurD"
   },
   "source": [
    "![alt text](https://i.imgur.com/Y5cNhQk.png)"
   ]
  },
  {
   "cell_type": "markdown",
   "metadata": {
    "id": "29hjwKlWWDfo"
   },
   "source": [
    "*  <font color='blue'><b>code for TASK 3 </b></font>"
   ]
  },
  {
   "cell_type": "code",
   "execution_count": 327,
   "metadata": {},
   "outputs": [
    {
     "data": {
      "text/plain": [
       "(1, 13)"
      ]
     },
     "execution_count": 327,
     "metadata": {},
     "output_type": "execute_result"
    }
   ],
   "source": [
    "xq= [0.18,20.0,5.00,0.0,0.421,5.60,72.2,7.95,7.0,30.0,19.1,372.13,18.60] \n",
    "xq = np.array(xq).reshape(1,-1)\n",
    "xq.shape"
   ]
  },
  {
   "cell_type": "code",
   "execution_count": 367,
   "metadata": {
    "id": "i_pUlSD-VYD1"
   },
   "outputs": [],
   "source": [
    "def pred(xq,model,selected_columns):\n",
    "    #y_pred_val = []\n",
    "\n",
    "    #for i in x:\n",
    "    y_pred = []\n",
    "\n",
    "    for j in range(len(model)):\n",
    "        y_pred.append(model[j].predict(xq[0][selected_columns[j]].reshape(1,-1)))\n",
    "        #y_pred_val.append(np.median(np.asarray(y_pred)))\n",
    "    y_pred_val = np.median(np.asarray(y_pred))\n",
    "    return y_pred_val"
   ]
  },
  {
   "cell_type": "code",
   "execution_count": 368,
   "metadata": {},
   "outputs": [],
   "source": [
    "selected_models = model_train(list_input_data, list_output_data)"
   ]
  },
  {
   "cell_type": "code",
   "execution_count": 371,
   "metadata": {},
   "outputs": [
    {
     "data": {
      "text/plain": [
       "array([ 18.6 , 372.13])"
      ]
     },
     "execution_count": 371,
     "metadata": {},
     "output_type": "execute_result"
    }
   ],
   "source": [
    "xq[0][[12,11]]#.reshape(1,-1)"
   ]
  },
  {
   "cell_type": "code",
   "execution_count": 370,
   "metadata": {},
   "outputs": [
    {
     "name": "stdout",
     "output_type": "stream",
     "text": [
      "18.6\n"
     ]
    }
   ],
   "source": [
    "val = pred(xq, selected_models, list_selected_columns)\n",
    "print(val)"
   ]
  },
  {
   "cell_type": "markdown",
   "metadata": {
    "id": "DJHTGEZgWJjR"
   },
   "source": [
    "<br><br><br>"
   ]
  },
  {
   "cell_type": "markdown",
   "metadata": {
    "id": "IOdUi-0xWOJ9"
   },
   "source": [
    "<font color='red'><b>observations for task 1, task 2, task 3</b></font>"
   ]
  },
  {
   "cell_type": "markdown",
   "metadata": {
    "id": "AIcax45hWKT-"
   },
   "source": [
    "<b> 1. MSE and OOB values obtained were 0.036758893280632456 & 14.007294250445527<br>\n",
    " 2. 95% confidence interval of mean squared error & OOB is [0.02195652173913042,0.1920735596837945] ,[11.350272821928243,17.44256813299346]<br>\n",
    " 3. Both MSE and OOB observed value lies within the 95 percentile value although MSE lies at the edge meaning if the significance value is not 5%(i.e not 95% CI) then MSE will fail above the 5% significance.\n",
    "* This might be because we have sampled or ran Random forest only 35 times , if that number increases then result might get improved"
   ]
  },
  {
   "cell_type": "code",
   "execution_count": null,
   "metadata": {},
   "outputs": [],
   "source": []
  }
 ],
 "metadata": {
  "colab": {
   "collapsed_sections": [],
   "name": "Bootstrap_assignment.ipynb",
   "provenance": []
  },
  "kernelspec": {
   "display_name": "Python 3 (ipykernel)",
   "language": "python",
   "name": "python3"
  },
  "language_info": {
   "codemirror_mode": {
    "name": "ipython",
    "version": 3
   },
   "file_extension": ".py",
   "mimetype": "text/x-python",
   "name": "python",
   "nbconvert_exporter": "python",
   "pygments_lexer": "ipython3",
   "version": "3.9.13"
  }
 },
 "nbformat": 4,
 "nbformat_minor": 1
}
